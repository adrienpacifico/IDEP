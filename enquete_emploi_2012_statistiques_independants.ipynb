{
 "cells": [
  {
   "cell_type": "markdown",
   "metadata": {
    "slideshow": {
     "slide_type": "slide"
    }
   },
   "source": [
    "# Les imports"
   ]
  },
  {
   "cell_type": "code",
   "execution_count": 1,
   "metadata": {
    "collapsed": true,
    "slideshow": {
     "slide_type": "subslide"
    }
   },
   "outputs": [],
   "source": [
    "from __future__ import division\n",
    "import os\n",
    "import urllib2"
   ]
  },
  {
   "cell_type": "code",
   "execution_count": 2,
   "metadata": {
    "collapsed": false,
    "slideshow": {
     "slide_type": "subslide"
    }
   },
   "outputs": [],
   "source": [
    "import numpy as np\n",
    "import pandas as pd\n",
    "pd.core.series.Series.value_counts.im_func.func_defaults = (False, False, False, None, False)\n",
    "pd.set_option('display.max_rows', 200)\n",
    "pd.set_option('display.max_columns', 100)\n",
    "#pd.set_option('display.width', 200)\n",
    "#pd.set_option('display.height', 100)"
   ]
  },
  {
   "cell_type": "markdown",
   "metadata": {},
   "source": [
    "## Fichiers dbf à HDF"
   ]
  },
  {
   "cell_type": "code",
   "execution_count": 4,
   "metadata": {
    "collapsed": false
   },
   "outputs": [
    {
     "name": "stdout",
     "output_type": "stream",
     "text": [
      "CPU times: user 2 µs, sys: 0 ns, total: 2 µs\n",
      "Wall time: 5.01 µs\n"
     ]
    },
    {
     "data": {
      "text/plain": [
       "<simpledbf.simpledbf.Dbf5 at 0x10dfe3550>"
      ]
     },
     "execution_count": 4,
     "metadata": {},
     "output_type": "execute_result"
    }
   ],
   "source": [
    "from simpledbf import Dbf5\n",
    "%time #TODO : automatic download for a given link  http://www.insee.fr/fr/themes/detail.asp?ref_id=fd-eec12&page=fichiers_detail/eec12/telechargement.htm\n",
    "table1_dbf = Dbf5('/Users/adrienpacifico/Informatique/Economie/enquete_emploi_stat_des/eec11_indiv11_dbase/indiv111.dbf')\n",
    "table2_dbf = Dbf5('/Users/adrienpacifico/Informatique/Economie/enquete_emploi_stat_des/eec11_indiv11_dbase/indiv112.dbf')\n",
    "table3_dbf = Dbf5('/Users/adrienpacifico/Informatique/Economie/enquete_emploi_stat_des/eec11_indiv11_dbase/indiv113.dbf'); table3_dbf"
   ]
  },
  {
   "cell_type": "code",
   "execution_count": 5,
   "metadata": {
    "collapsed": true
   },
   "outputs": [],
   "source": [
    "assert table3_dbf.numrec == table2_dbf.numrec == table1_dbf.numrec "
   ]
  },
  {
   "cell_type": "code",
   "execution_count": 8,
   "metadata": {
    "collapsed": false
   },
   "outputs": [
    {
     "data": {
      "text/plain": [
       "423425"
      ]
     },
     "execution_count": 8,
     "metadata": {},
     "output_type": "execute_result"
    }
   ],
   "source": [
    "table1_dbf.numrec "
   ]
  },
  {
   "cell_type": "code",
   "execution_count": 9,
   "metadata": {
    "collapsed": false
   },
   "outputs": [],
   "source": [
    "file_path = \"/Users/adrienpacifico/Informatique/Economie/enquete_emploi_stat_des/\""
   ]
  },
  {
   "cell_type": "code",
   "execution_count": 10,
   "metadata": {
    "collapsed": false
   },
   "outputs": [
    {
     "name": "stdout",
     "output_type": "stream",
     "text": [
      "CPU times: user 28 µs, sys: 67 µs, total: 95 µs\n",
      "Wall time: 97 µs\n"
     ]
    }
   ],
   "source": [
    "%%time\n",
    "if not os.path.isfile(file_path + 'indiv111.csv'): #Do not create csv file if allready exists\n",
    "    table1_dbf.to_csv(file_path +'indiv111.csv')\n",
    "if not os.path.isfile(file_path +'indiv112.csv'):    \n",
    "    table2_dbf.to_csv(file_path +'indiv112.csv')\n",
    "if not os.path.isfile(file_path +'indiv113.csv'): \n",
    "    table3_dbf.to_csv(file_path +'indiv113.csv')"
   ]
  },
  {
   "cell_type": "code",
   "execution_count": 13,
   "metadata": {
    "collapsed": false
   },
   "outputs": [
    {
     "name": "stdout",
     "output_type": "stream",
     "text": [
      "  423426 /Users/adrienpacifico/Informatique/Economie/enquete_emploi_stat_des/indiv111.csv\r\n"
     ]
    }
   ],
   "source": [
    "indivi111 = file_path +'indiv111.csv'\n",
    "! wc -l $indivi111"
   ]
  },
  {
   "cell_type": "code",
   "execution_count": 15,
   "metadata": {
    "collapsed": false
   },
   "outputs": [
    {
     "name": "stdout",
     "output_type": "stream",
     "text": [
      "CPU times: user 93 µs, sys: 81 µs, total: 174 µs\n",
      "Wall time: 110 µs\n"
     ]
    }
   ],
   "source": [
    "%%time\n",
    "if not os.path.isfile(file_path +'eec_2011.h5'):\n",
    "    print 'csv are read'\n",
    "    table1 = pd.read_csv(file_path +'indiv111.csv', low_memory=False)\n",
    "    table2 = pd.read_csv(file_path +'indiv112.csv', low_memory=False)\n",
    "    table3 = pd.read_csv(file_path +'indiv113.csv', low_memory=False)\n",
    "    \n",
    "    assert (\n",
    "            table1.shape[0] == table2.shape[0] == table3.shape[0]#all tables must have the same number of raws\n",
    "            == table3_dbf.numrec == table2_dbf.numrec == table1_dbf.numrec # and the save nb of raws as the original dbf file  \n",
    "           ) \n",
    "    print table1.shape[0], table2.shape[0], table3.shape[0]"
   ]
  },
  {
   "cell_type": "code",
   "execution_count": 13,
   "metadata": {
    "collapsed": false
   },
   "outputs": [
    {
     "name": "stdout",
     "output_type": "stream",
     "text": [
      "CPU times: user 58 µs, sys: 45 µs, total: 103 µs\n",
      "Wall time: 74.9 µs\n"
     ]
    }
   ],
   "source": [
    "%%time\n",
    "if not os.path.isfile(file_path +'eec_2011.h5'):\n",
    "    table1.to_hdf(file_path +'eec_2011.h5', 'table1', append = True) \n",
    "    table2.to_hdf(file_path +'eec_2011.h5', 'table2', append = True)\n",
    "    table3.to_hdf(file_path +'eec_2011.h5', 'table3', append = True)"
   ]
  },
  {
   "cell_type": "code",
   "execution_count": 16,
   "metadata": {
    "collapsed": false
   },
   "outputs": [
    {
     "name": "stdout",
     "output_type": "stream",
     "text": [
      "CPU times: user 13.6 s, sys: 5.82 s, total: 19.4 s\n",
      "Wall time: 25.5 s\n"
     ]
    }
   ],
   "source": [
    "%%time\n",
    "table_1 = pd.read_hdf(file_path +'eec_2012.h5', 'table1')\n",
    "table_2 = pd.read_hdf(file_path +'eec_2012.h5', 'table2')\n",
    "table_3 = pd.read_hdf(file_path +'eec_2012.h5', 'table3')"
   ]
  },
  {
   "cell_type": "markdown",
   "metadata": {},
   "source": [
    "### Controle que les tables fassent la même taille"
   ]
  },
  {
   "cell_type": "code",
   "execution_count": 17,
   "metadata": {
    "collapsed": false
   },
   "outputs": [
    {
     "name": "stdout",
     "output_type": "stream",
     "text": [
      "422133\n",
      "422133\n",
      "422133\n"
     ]
    }
   ],
   "source": [
    "#if 'table1' in locals():\n",
    "#assert table1.shape[0] == table2.shape[0] == table3.shape[0] == table_1.shape[0] == table_2.shape[0] == table_3.shape[0]\n",
    "print table_1.shape[0]\n",
    "print table_2.shape[0]\n",
    "print table_3.shape[0]"
   ]
  },
  {
   "cell_type": "code",
   "execution_count": 18,
   "metadata": {
    "collapsed": true
   },
   "outputs": [],
   "source": [
    "table1 = table_1\n",
    "table2 = table_2\n",
    "table3 = table_3"
   ]
  },
  {
   "cell_type": "code",
   "execution_count": 19,
   "metadata": {
    "collapsed": false
   },
   "outputs": [
    {
     "data": {
      "text/plain": [
       "2012    422133\n",
       "dtype: int64"
      ]
     },
     "execution_count": 19,
     "metadata": {},
     "output_type": "execute_result"
    }
   ],
   "source": [
    "table1.ANNEE.value_counts()"
   ]
  },
  {
   "cell_type": "markdown",
   "metadata": {},
   "source": [
    "## Appariement des 3 sous-tables"
   ]
  },
  {
   "cell_type": "code",
   "execution_count": 20,
   "metadata": {
    "collapsed": false
   },
   "outputs": [],
   "source": [
    "#pd.merge(table1,table2, on = ('TRIM', 'IDENT','NOI'))\n",
    "table1['TRIM'] = table1.TRIM.astype('str')\n",
    "table1['IDENT'] = table1.IDENT.astype('str')\n",
    "table1['NOI'] = table1.NOI.astype('str')\n",
    "\n",
    "table2['TRIM'] = table2.TRIM.astype('str')\n",
    "table2['IDENT'] = table2.IDENT.astype('str')\n",
    "table2['NOI'] = table2.NOI.astype('str')\n",
    "\n",
    "table3['TRIM'] = table3.TRIM.astype('str')\n",
    "table3['IDENT'] = table3.IDENT.astype('str')\n",
    "table3['NOI'] = table3.NOI.astype('str')\n"
   ]
  },
  {
   "cell_type": "code",
   "execution_count": 21,
   "metadata": {
    "collapsed": false
   },
   "outputs": [
    {
     "name": "stdout",
     "output_type": "stream",
     "text": [
      "CPU times: user 5.81 s, sys: 5.28 s, total: 11.1 s\n",
      "Wall time: 13.3 s\n"
     ]
    }
   ],
   "source": [
    "%%time\n",
    "table1[\"id_unique\"] = table1.IDENT + table1.TRIM + table1.NOI   #unique id for a given rank of interview\n",
    "table2[\"id_unique\"] = table2.IDENT + table2.TRIM + table2.NOI\n",
    "table3[\"id_unique\"] = table3.IDENT + table3.TRIM + table3.NOI\n",
    "table1[\"id_indiv\"] = table1.IDENT + table1.NOI  #unique id for a given individual\n",
    "table2[\"id_indiv\"] = table2.IDENT + table2.NOI\n",
    "table3[\"id_indiv\"] = table3.IDENT + table3.NOI\n",
    "result = pd.merge(table1, table2, on='id_unique')\n",
    "result = pd.merge(result, table3, on='id_unique')\n"
   ]
  },
  {
   "cell_type": "code",
   "execution_count": 22,
   "metadata": {
    "collapsed": false
   },
   "outputs": [
    {
     "name": "stdout",
     "output_type": "stream",
     "text": [
      "50.4131455875\n",
      "50.4127540303\n",
      "50.4122227411\n"
     ]
    }
   ],
   "source": [
    "print result.EXTRI113.sum()/10**6\n",
    "print result.EXTRI1613.sum()/10**6\n",
    "print result.EXTRI13.sum()/10**6"
   ]
  },
  {
   "cell_type": "markdown",
   "metadata": {},
   "source": [
    "11 - Indépendants\n",
    "12 - Employeurs\n",
    "13 - Aides familiaux\n",
    "21 - Intérimaires\n",
    "22 - Apprentis\n",
    "33 - CDD (hors Etat, coll.loc.), hors contrats aides\n",
    "34 - Stagiaires et contrats aides (hors Etat, coll.loc.)\n",
    "35 - Autres contrats (hors Etat, coll.loc.)\n",
    "43 - CDD (Etat, coll.loc.), hors contrats aides\n",
    "44 - Stagiaires et contrats aides (Etat, coll.loc.)\n",
    "45 - Autres contrats (Etat, coll.loc.) "
   ]
  },
  {
   "cell_type": "code",
   "execution_count": 23,
   "metadata": {
    "collapsed": true
   },
   "outputs": [],
   "source": [
    "result.TRIM = result.TRIM.astype(\"int32\")"
   ]
  },
  {
   "cell_type": "code",
   "execution_count": 24,
   "metadata": {
    "collapsed": false
   },
   "outputs": [],
   "source": [
    "#result.reset_index(inplace = True)\n",
    "#for trim in range(1,5):\n",
    "#    result.loc[result.TRIM == trim,'STC_{}'.format(trim) ] = result[\"STC\"]\n",
    "#    result.loc[result.TRIM == trim,'SP_{}'.format(trim) ] = result[\"SP00\"]\n",
    "#    result.loc[result.TRIM == trim,'STATUTP_{}'.format(trim) ] = result[\"STATUTP\"]\n",
    "#    result.loc[result.TRIM == trim,'STATUT_{}'.format(trim) ] = result[\"STATUT\"]\n",
    "#    \n",
    "#    #print (result.TRIM == trim).value_counts()\n",
    "#    print trim"
   ]
  },
  {
   "cell_type": "code",
   "execution_count": 25,
   "metadata": {
    "collapsed": false
   },
   "outputs": [],
   "source": [
    "result.reset_index(inplace = True)\n",
    "var_list = list()\n",
    "\n",
    "for var in [\"STC\", \"SP00\", \"STATUTP\", \"STATUT\"]:\n",
    "    for trim in range(1,5):\n",
    "        result.loc[result.TRIM == trim, var +'_{}'.format(trim) ] = result[var]\n",
    "        var_list.append( var +'_{}'.format(trim))\n",
    "        "
   ]
  },
  {
   "cell_type": "code",
   "execution_count": 26,
   "metadata": {
    "collapsed": true
   },
   "outputs": [],
   "source": [
    "result.set_index('id_indiv', inplace=True)"
   ]
  },
  {
   "cell_type": "code",
   "execution_count": 27,
   "metadata": {
    "collapsed": false
   },
   "outputs": [],
   "source": [
    "result.reset_index(inplace= True)\n",
    "#df = result[[\"STC_1\", \"STC_2\", \"STC_3\", \"STC_4\", \"id_indiv\", \"EXTRI13\", \"EXTRI113\", \"EXTRI1613\"]+[\"SP_{}\".format(trim) for trim in range(1,5)]\n",
    "#           ].groupby(\"id_indiv\").sum()\n",
    "df = result[var_list + [ \"EXTRI13\", \"EXTRI113\", \"EXTRI1613\", \"id_indiv\"]].groupby(\"id_indiv\").sum()"
   ]
  },
  {
   "cell_type": "code",
   "execution_count": 28,
   "metadata": {
    "collapsed": false
   },
   "outputs": [
    {
     "data": {
      "text/html": [
       "<div>\n",
       "<table border=\"1\" class=\"dataframe\">\n",
       "  <thead>\n",
       "    <tr style=\"text-align: right;\">\n",
       "      <th></th>\n",
       "      <th>STC_1</th>\n",
       "      <th>STC_2</th>\n",
       "      <th>STC_3</th>\n",
       "      <th>STC_4</th>\n",
       "      <th>SP00_1</th>\n",
       "      <th>SP00_2</th>\n",
       "      <th>SP00_3</th>\n",
       "      <th>SP00_4</th>\n",
       "      <th>STATUTP_1</th>\n",
       "      <th>STATUTP_2</th>\n",
       "      <th>STATUTP_3</th>\n",
       "      <th>STATUTP_4</th>\n",
       "      <th>STATUT_1</th>\n",
       "      <th>STATUT_2</th>\n",
       "      <th>STATUT_3</th>\n",
       "      <th>STATUT_4</th>\n",
       "      <th>EXTRI13</th>\n",
       "      <th>EXTRI113</th>\n",
       "      <th>EXTRI1613</th>\n",
       "    </tr>\n",
       "    <tr>\n",
       "      <th>id_indiv</th>\n",
       "      <th></th>\n",
       "      <th></th>\n",
       "      <th></th>\n",
       "      <th></th>\n",
       "      <th></th>\n",
       "      <th></th>\n",
       "      <th></th>\n",
       "      <th></th>\n",
       "      <th></th>\n",
       "      <th></th>\n",
       "      <th></th>\n",
       "      <th></th>\n",
       "      <th></th>\n",
       "      <th></th>\n",
       "      <th></th>\n",
       "      <th></th>\n",
       "      <th></th>\n",
       "      <th></th>\n",
       "      <th></th>\n",
       "    </tr>\n",
       "  </thead>\n",
       "  <tbody>\n",
       "    <tr>\n",
       "      <th>G002T0TB1</th>\n",
       "      <td>NaN</td>\n",
       "      <td>NaN</td>\n",
       "      <td>NaN</td>\n",
       "      <td>NaN</td>\n",
       "      <td>NaN</td>\n",
       "      <td>4</td>\n",
       "      <td>4</td>\n",
       "      <td>4</td>\n",
       "      <td>NaN</td>\n",
       "      <td>NaN</td>\n",
       "      <td>NaN</td>\n",
       "      <td>NaN</td>\n",
       "      <td>NaN</td>\n",
       "      <td>NaN</td>\n",
       "      <td>NaN</td>\n",
       "      <td>NaN</td>\n",
       "      <td>225.685550</td>\n",
       "      <td>496.415270</td>\n",
       "      <td>248.207635</td>\n",
       "    </tr>\n",
       "    <tr>\n",
       "      <th>G002T0TB2</th>\n",
       "      <td>NaN</td>\n",
       "      <td>2</td>\n",
       "      <td>2</td>\n",
       "      <td>2</td>\n",
       "      <td>NaN</td>\n",
       "      <td>1</td>\n",
       "      <td>1</td>\n",
       "      <td>1</td>\n",
       "      <td>NaN</td>\n",
       "      <td>45</td>\n",
       "      <td>NaN</td>\n",
       "      <td>NaN</td>\n",
       "      <td>NaN</td>\n",
       "      <td>45</td>\n",
       "      <td>45</td>\n",
       "      <td>45</td>\n",
       "      <td>225.685550</td>\n",
       "      <td>496.415270</td>\n",
       "      <td>248.207635</td>\n",
       "    </tr>\n",
       "    <tr>\n",
       "      <th>G002T6DB1</th>\n",
       "      <td>NaN</td>\n",
       "      <td>NaN</td>\n",
       "      <td>NaN</td>\n",
       "      <td>2</td>\n",
       "      <td>NaN</td>\n",
       "      <td>NaN</td>\n",
       "      <td>NaN</td>\n",
       "      <td>1</td>\n",
       "      <td>NaN</td>\n",
       "      <td>NaN</td>\n",
       "      <td>NaN</td>\n",
       "      <td>45</td>\n",
       "      <td>NaN</td>\n",
       "      <td>NaN</td>\n",
       "      <td>NaN</td>\n",
       "      <td>45</td>\n",
       "      <td>70.940001</td>\n",
       "      <td>0.000000</td>\n",
       "      <td>0.000000</td>\n",
       "    </tr>\n",
       "    <tr>\n",
       "      <th>G002T6DB2</th>\n",
       "      <td>NaN</td>\n",
       "      <td>NaN</td>\n",
       "      <td>NaN</td>\n",
       "      <td>2</td>\n",
       "      <td>NaN</td>\n",
       "      <td>NaN</td>\n",
       "      <td>NaN</td>\n",
       "      <td>1</td>\n",
       "      <td>NaN</td>\n",
       "      <td>NaN</td>\n",
       "      <td>NaN</td>\n",
       "      <td>45</td>\n",
       "      <td>NaN</td>\n",
       "      <td>NaN</td>\n",
       "      <td>NaN</td>\n",
       "      <td>45</td>\n",
       "      <td>70.940001</td>\n",
       "      <td>0.000000</td>\n",
       "      <td>0.000000</td>\n",
       "    </tr>\n",
       "    <tr>\n",
       "      <th>G002TBXB1</th>\n",
       "      <td>NaN</td>\n",
       "      <td>NaN</td>\n",
       "      <td>NaN</td>\n",
       "      <td>NaN</td>\n",
       "      <td>NaN</td>\n",
       "      <td>4</td>\n",
       "      <td>4</td>\n",
       "      <td>4</td>\n",
       "      <td>NaN</td>\n",
       "      <td>NaN</td>\n",
       "      <td>NaN</td>\n",
       "      <td>NaN</td>\n",
       "      <td>NaN</td>\n",
       "      <td>NaN</td>\n",
       "      <td>NaN</td>\n",
       "      <td>NaN</td>\n",
       "      <td>233.114929</td>\n",
       "      <td>471.626902</td>\n",
       "      <td>235.813451</td>\n",
       "    </tr>\n",
       "  </tbody>\n",
       "</table>\n",
       "</div>"
      ],
      "text/plain": [
       "           STC_1  STC_2  STC_3  STC_4  SP00_1  SP00_2  SP00_3  SP00_4  \\\n",
       "id_indiv                                                                \n",
       "G002T0TB1    NaN    NaN    NaN    NaN     NaN       4       4       4   \n",
       "G002T0TB2    NaN      2      2      2     NaN       1       1       1   \n",
       "G002T6DB1    NaN    NaN    NaN      2     NaN     NaN     NaN       1   \n",
       "G002T6DB2    NaN    NaN    NaN      2     NaN     NaN     NaN       1   \n",
       "G002TBXB1    NaN    NaN    NaN    NaN     NaN       4       4       4   \n",
       "\n",
       "           STATUTP_1  STATUTP_2  STATUTP_3  STATUTP_4  STATUT_1  STATUT_2  \\\n",
       "id_indiv                                                                    \n",
       "G002T0TB1        NaN        NaN        NaN        NaN       NaN       NaN   \n",
       "G002T0TB2        NaN         45        NaN        NaN       NaN        45   \n",
       "G002T6DB1        NaN        NaN        NaN         45       NaN       NaN   \n",
       "G002T6DB2        NaN        NaN        NaN         45       NaN       NaN   \n",
       "G002TBXB1        NaN        NaN        NaN        NaN       NaN       NaN   \n",
       "\n",
       "           STATUT_3  STATUT_4     EXTRI13    EXTRI113   EXTRI1613  \n",
       "id_indiv                                                           \n",
       "G002T0TB1       NaN       NaN  225.685550  496.415270  248.207635  \n",
       "G002T0TB2        45        45  225.685550  496.415270  248.207635  \n",
       "G002T6DB1       NaN        45   70.940001    0.000000    0.000000  \n",
       "G002T6DB2       NaN        45   70.940001    0.000000    0.000000  \n",
       "G002TBXB1       NaN       NaN  233.114929  471.626902  235.813451  "
      ]
     },
     "execution_count": 28,
     "metadata": {},
     "output_type": "execute_result"
    }
   ],
   "source": [
    "df.head()"
   ]
  },
  {
   "cell_type": "code",
   "execution_count": 29,
   "metadata": {
    "collapsed": false,
    "scrolled": true
   },
   "outputs": [
    {
     "data": {
      "text/plain": [
       "1    0.120642\n",
       "2    0.874053\n",
       "3    0.005305\n",
       "dtype: float64"
      ]
     },
     "execution_count": 29,
     "metadata": {},
     "output_type": "execute_result"
    }
   ],
   "source": [
    "df[(~df.STC_1.isnull()) & (~df.STC_4.isnull())].STC_4.value_counts(normalize = True)"
   ]
  },
  {
   "cell_type": "code",
   "execution_count": 30,
   "metadata": {
    "collapsed": false
   },
   "outputs": [
    {
     "name": "stdout",
     "output_type": "stream",
     "text": [
      "(37323, 19) (21112, 19) (21118, 19) (171876, 19)\n"
     ]
    }
   ],
   "source": [
    "df1  = df[(~df.SP00_1.isnull()) & (~df.SP00_4.isnull())]\n",
    "df2  = df[(~df.STC_1.isnull()) & (~df.STC_4.isnull())]\n",
    "df3  = df[(~df.STATUT_1.isnull()) & (~df.STATUT_4.isnull())]\n",
    "print df1.shape , df2.shape , df3.shape, df.shape # df1 contient les individus renseignés sur les 4 trimestres, df contient les individus qui ne sont pas forcément renseigné sur les 4 trimestres "
   ]
  },
  {
   "cell_type": "code",
   "execution_count": 31,
   "metadata": {
    "collapsed": false
   },
   "outputs": [
    {
     "data": {
      "text/plain": [
       "46.421183586449153"
      ]
     },
     "execution_count": 31,
     "metadata": {},
     "output_type": "execute_result"
    }
   ],
   "source": [
    "((df1.EXTRI13.sum())*8/3)/10**6 #Car on prends les 3/8 ème de la base"
   ]
  },
  {
   "cell_type": "code",
   "execution_count": 32,
   "metadata": {
    "collapsed": false
   },
   "outputs": [
    {
     "data": {
      "text/plain": [
       "0.92083191461104086"
      ]
     },
     "execution_count": 32,
     "metadata": {},
     "output_type": "execute_result"
    }
   ],
   "source": [
    "((df1.EXTRI13.sum())*8/3)/result.EXTRI13.sum() # On perd 8% du sample, je corrige en assumant qu'il n'y a pas de biais de sélection"
   ]
  },
  {
   "cell_type": "code",
   "execution_count": 33,
   "metadata": {
    "collapsed": false
   },
   "outputs": [
    {
     "name": "stderr",
     "output_type": "stream",
     "text": [
      "/usr/local/lib/python2.7/site-packages/pandas/core/generic.py:2177: SettingWithCopyWarning: \n",
      "A value is trying to be set on a copy of a slice from a DataFrame.\n",
      "Try using .loc[row_indexer,col_indexer] = value instead\n",
      "\n",
      "See the the caveats in the documentation: http://pandas.pydata.org/pandas-docs/stable/indexing.html#indexing-view-versus-copy\n",
      "  self[name] = value\n"
     ]
    }
   ],
   "source": [
    "df1.EXTRI13 = df1.EXTRI13 * (1/(((df1.EXTRI13.sum())*8/3)/result.EXTRI13.sum()))*8/3"
   ]
  },
  {
   "cell_type": "code",
   "execution_count": 34,
   "metadata": {
    "collapsed": false
   },
   "outputs": [
    {
     "data": {
      "text/plain": [
       "50412222.741060682"
      ]
     },
     "execution_count": 34,
     "metadata": {},
     "output_type": "execute_result"
    }
   ],
   "source": [
    "df.EXTRI13.sum()"
   ]
  },
  {
   "cell_type": "code",
   "execution_count": 35,
   "metadata": {
    "collapsed": true
   },
   "outputs": [],
   "source": [
    "df = df1"
   ]
  },
  {
   "cell_type": "markdown",
   "metadata": {},
   "source": [
    "### Changement de STC"
   ]
  },
  {
   "cell_type": "code",
   "execution_count": 36,
   "metadata": {
    "collapsed": false
   },
   "outputs": [],
   "source": [
    "\n",
    "for trim in range(2,5):\n",
    "    changement_situation_mois = \"changement_STC_{}\".format(trim)\n",
    "    sitmois_minus_one = \"STC_{}\".format(trim-1)\n",
    "    sitmois = \"STC_{}\".format(trim)\n",
    "    df[changement_situation_mois] = ((df[sitmois] != df[sitmois_minus_one]))\n",
    "\n"
   ]
  },
  {
   "cell_type": "code",
   "execution_count": 37,
   "metadata": {
    "collapsed": false
   },
   "outputs": [
    {
     "data": {
      "text/plain": [
       "0    0.503684\n",
       "1    0.024007\n",
       "2    0.078343\n",
       "3    0.393966\n",
       "dtype: float64"
      ]
     },
     "execution_count": 37,
     "metadata": {},
     "output_type": "execute_result"
    }
   ],
   "source": [
    "df[[\"changement_STC_{}\".format(trim) for trim in range(2,5)]].sum(1).value_counts(normalize = True)"
   ]
  },
  {
   "cell_type": "markdown",
   "metadata": {},
   "source": [
    "### Changement de STATUT"
   ]
  },
  {
   "cell_type": "code",
   "execution_count": 38,
   "metadata": {
    "collapsed": false
   },
   "outputs": [],
   "source": [
    "for trim in range(2,5):\n",
    "    changement_situation_mois = \"changement_STATUT_{}\".format(trim)\n",
    "    sitmois_minus_one = \"STATUT_{}\".format(trim-1)\n",
    "    sitmois = \"STATUT_{}\".format(trim)\n",
    "    df[changement_situation_mois] = ((df[sitmois] != df[sitmois_minus_one]))"
   ]
  },
  {
   "cell_type": "code",
   "execution_count": 39,
   "metadata": {
    "collapsed": false
   },
   "outputs": [],
   "source": [
    "#is_independant = (df[[\"STC_{}\".format(trim) for trim in range(1,5)]] ==1).sum(1)\n",
    "is_independant = (df[[\"STATUT_{}\".format(trim) for trim in range(1,5)]] ==11).sum(1)"
   ]
  },
  {
   "cell_type": "code",
   "execution_count": 40,
   "metadata": {
    "collapsed": false
   },
   "outputs": [],
   "source": [
    "df_indep = df[is_independant >0]"
   ]
  },
  {
   "cell_type": "code",
   "execution_count": 41,
   "metadata": {
    "collapsed": false
   },
   "outputs": [
    {
     "data": {
      "text/plain": [
       "(1659, 25)"
      ]
     },
     "execution_count": 41,
     "metadata": {},
     "output_type": "execute_result"
    }
   ],
   "source": [
    "df_indep.shape"
   ]
  },
  {
   "cell_type": "code",
   "execution_count": 42,
   "metadata": {
    "collapsed": false
   },
   "outputs": [
    {
     "name": "stderr",
     "output_type": "stream",
     "text": [
      "/usr/local/lib/python2.7/site-packages/ipykernel/__main__.py:1: SettingWithCopyWarning: \n",
      "A value is trying to be set on a copy of a slice from a DataFrame.\n",
      "Try using .loc[row_indexer,col_indexer] = value instead\n",
      "\n",
      "See the the caveats in the documentation: http://pandas.pydata.org/pandas-docs/stable/indexing.html#indexing-view-versus-copy\n",
      "  if __name__ == '__main__':\n"
     ]
    }
   ],
   "source": [
    "df_indep[\"changement_statut\"] = df_indep[[\"changement_STATUT_{}\".format(trim) for trim in range(2,5)]].sum(1).astype(\"bool\")"
   ]
  },
  {
   "cell_type": "code",
   "execution_count": 43,
   "metadata": {
    "collapsed": false,
    "scrolled": true
   },
   "outputs": [
    {
     "data": {
      "text/html": [
       "<div>\n",
       "<table border=\"1\" class=\"dataframe\">\n",
       "  <thead>\n",
       "    <tr style=\"text-align: right;\">\n",
       "      <th></th>\n",
       "      <th>STC_1</th>\n",
       "      <th>STC_2</th>\n",
       "      <th>STC_3</th>\n",
       "      <th>STC_4</th>\n",
       "      <th>SP00_1</th>\n",
       "      <th>SP00_2</th>\n",
       "      <th>SP00_3</th>\n",
       "      <th>SP00_4</th>\n",
       "      <th>STATUTP_1</th>\n",
       "      <th>STATUTP_2</th>\n",
       "      <th>STATUTP_3</th>\n",
       "      <th>STATUTP_4</th>\n",
       "      <th>STATUT_1</th>\n",
       "      <th>STATUT_2</th>\n",
       "      <th>STATUT_3</th>\n",
       "      <th>STATUT_4</th>\n",
       "      <th>EXTRI13</th>\n",
       "      <th>EXTRI113</th>\n",
       "      <th>EXTRI1613</th>\n",
       "      <th>changement_STC_2</th>\n",
       "      <th>changement_STC_3</th>\n",
       "      <th>changement_STC_4</th>\n",
       "      <th>changement_STATUT_2</th>\n",
       "      <th>changement_STATUT_3</th>\n",
       "      <th>changement_STATUT_4</th>\n",
       "      <th>changement_statut</th>\n",
       "    </tr>\n",
       "    <tr>\n",
       "      <th>id_indiv</th>\n",
       "      <th></th>\n",
       "      <th></th>\n",
       "      <th></th>\n",
       "      <th></th>\n",
       "      <th></th>\n",
       "      <th></th>\n",
       "      <th></th>\n",
       "      <th></th>\n",
       "      <th></th>\n",
       "      <th></th>\n",
       "      <th></th>\n",
       "      <th></th>\n",
       "      <th></th>\n",
       "      <th></th>\n",
       "      <th></th>\n",
       "      <th></th>\n",
       "      <th></th>\n",
       "      <th></th>\n",
       "      <th></th>\n",
       "      <th></th>\n",
       "      <th></th>\n",
       "      <th></th>\n",
       "      <th></th>\n",
       "      <th></th>\n",
       "      <th></th>\n",
       "      <th></th>\n",
       "    </tr>\n",
       "  </thead>\n",
       "  <tbody>\n",
       "    <tr>\n",
       "      <th>G077Z53B1</th>\n",
       "      <td>1</td>\n",
       "      <td>1</td>\n",
       "      <td>1</td>\n",
       "      <td>1</td>\n",
       "      <td>1</td>\n",
       "      <td>1</td>\n",
       "      <td>1</td>\n",
       "      <td>1</td>\n",
       "      <td>NaN</td>\n",
       "      <td>NaN</td>\n",
       "      <td>NaN</td>\n",
       "      <td>NaN</td>\n",
       "      <td>11</td>\n",
       "      <td>11</td>\n",
       "      <td>11</td>\n",
       "      <td>11</td>\n",
       "      <td>1355.767390</td>\n",
       "      <td>0</td>\n",
       "      <td>0</td>\n",
       "      <td>False</td>\n",
       "      <td>False</td>\n",
       "      <td>False</td>\n",
       "      <td>False</td>\n",
       "      <td>False</td>\n",
       "      <td>False</td>\n",
       "      <td>False</td>\n",
       "    </tr>\n",
       "    <tr>\n",
       "      <th>G077Z84B2</th>\n",
       "      <td>NaN</td>\n",
       "      <td>1</td>\n",
       "      <td>NaN</td>\n",
       "      <td>NaN</td>\n",
       "      <td>6</td>\n",
       "      <td>1</td>\n",
       "      <td>NaN</td>\n",
       "      <td>1</td>\n",
       "      <td>NaN</td>\n",
       "      <td>NaN</td>\n",
       "      <td>NaN</td>\n",
       "      <td>NaN</td>\n",
       "      <td>NaN</td>\n",
       "      <td>11</td>\n",
       "      <td>NaN</td>\n",
       "      <td>NaN</td>\n",
       "      <td>1104.184675</td>\n",
       "      <td>0</td>\n",
       "      <td>0</td>\n",
       "      <td>True</td>\n",
       "      <td>True</td>\n",
       "      <td>True</td>\n",
       "      <td>True</td>\n",
       "      <td>True</td>\n",
       "      <td>True</td>\n",
       "      <td>True</td>\n",
       "    </tr>\n",
       "    <tr>\n",
       "      <th>G0874XHC1</th>\n",
       "      <td>1</td>\n",
       "      <td>1</td>\n",
       "      <td>1</td>\n",
       "      <td>1</td>\n",
       "      <td>1</td>\n",
       "      <td>1</td>\n",
       "      <td>1</td>\n",
       "      <td>1</td>\n",
       "      <td>NaN</td>\n",
       "      <td>NaN</td>\n",
       "      <td>NaN</td>\n",
       "      <td>NaN</td>\n",
       "      <td>11</td>\n",
       "      <td>11</td>\n",
       "      <td>11</td>\n",
       "      <td>11</td>\n",
       "      <td>2355.716205</td>\n",
       "      <td>0</td>\n",
       "      <td>0</td>\n",
       "      <td>False</td>\n",
       "      <td>False</td>\n",
       "      <td>False</td>\n",
       "      <td>False</td>\n",
       "      <td>False</td>\n",
       "      <td>False</td>\n",
       "      <td>False</td>\n",
       "    </tr>\n",
       "    <tr>\n",
       "      <th>G097435C1</th>\n",
       "      <td>2</td>\n",
       "      <td>2</td>\n",
       "      <td>NaN</td>\n",
       "      <td>2</td>\n",
       "      <td>1</td>\n",
       "      <td>1</td>\n",
       "      <td>NaN</td>\n",
       "      <td>1</td>\n",
       "      <td>NaN</td>\n",
       "      <td>NaN</td>\n",
       "      <td>NaN</td>\n",
       "      <td>NaN</td>\n",
       "      <td>11</td>\n",
       "      <td>11</td>\n",
       "      <td>NaN</td>\n",
       "      <td>11</td>\n",
       "      <td>954.584668</td>\n",
       "      <td>0</td>\n",
       "      <td>0</td>\n",
       "      <td>False</td>\n",
       "      <td>True</td>\n",
       "      <td>True</td>\n",
       "      <td>False</td>\n",
       "      <td>True</td>\n",
       "      <td>True</td>\n",
       "      <td>True</td>\n",
       "    </tr>\n",
       "    <tr>\n",
       "      <th>G0C7E79C1</th>\n",
       "      <td>1</td>\n",
       "      <td>1</td>\n",
       "      <td>1</td>\n",
       "      <td>1</td>\n",
       "      <td>1</td>\n",
       "      <td>1</td>\n",
       "      <td>1</td>\n",
       "      <td>1</td>\n",
       "      <td>NaN</td>\n",
       "      <td>NaN</td>\n",
       "      <td>NaN</td>\n",
       "      <td>NaN</td>\n",
       "      <td>11</td>\n",
       "      <td>11</td>\n",
       "      <td>11</td>\n",
       "      <td>11</td>\n",
       "      <td>1949.470159</td>\n",
       "      <td>0</td>\n",
       "      <td>0</td>\n",
       "      <td>False</td>\n",
       "      <td>False</td>\n",
       "      <td>False</td>\n",
       "      <td>False</td>\n",
       "      <td>False</td>\n",
       "      <td>False</td>\n",
       "      <td>False</td>\n",
       "    </tr>\n",
       "  </tbody>\n",
       "</table>\n",
       "</div>"
      ],
      "text/plain": [
       "           STC_1  STC_2  STC_3  STC_4  SP00_1  SP00_2  SP00_3  SP00_4  \\\n",
       "id_indiv                                                                \n",
       "G077Z53B1      1      1      1      1       1       1       1       1   \n",
       "G077Z84B2    NaN      1    NaN    NaN       6       1     NaN       1   \n",
       "G0874XHC1      1      1      1      1       1       1       1       1   \n",
       "G097435C1      2      2    NaN      2       1       1     NaN       1   \n",
       "G0C7E79C1      1      1      1      1       1       1       1       1   \n",
       "\n",
       "           STATUTP_1  STATUTP_2  STATUTP_3  STATUTP_4  STATUT_1  STATUT_2  \\\n",
       "id_indiv                                                                    \n",
       "G077Z53B1        NaN        NaN        NaN        NaN        11        11   \n",
       "G077Z84B2        NaN        NaN        NaN        NaN       NaN        11   \n",
       "G0874XHC1        NaN        NaN        NaN        NaN        11        11   \n",
       "G097435C1        NaN        NaN        NaN        NaN        11        11   \n",
       "G0C7E79C1        NaN        NaN        NaN        NaN        11        11   \n",
       "\n",
       "           STATUT_3  STATUT_4      EXTRI13  EXTRI113  EXTRI1613  \\\n",
       "id_indiv                                                          \n",
       "G077Z53B1        11        11  1355.767390         0          0   \n",
       "G077Z84B2       NaN       NaN  1104.184675         0          0   \n",
       "G0874XHC1        11        11  2355.716205         0          0   \n",
       "G097435C1       NaN        11   954.584668         0          0   \n",
       "G0C7E79C1        11        11  1949.470159         0          0   \n",
       "\n",
       "          changement_STC_2 changement_STC_3 changement_STC_4  \\\n",
       "id_indiv                                                       \n",
       "G077Z53B1            False            False            False   \n",
       "G077Z84B2             True             True             True   \n",
       "G0874XHC1            False            False            False   \n",
       "G097435C1            False             True             True   \n",
       "G0C7E79C1            False            False            False   \n",
       "\n",
       "          changement_STATUT_2 changement_STATUT_3 changement_STATUT_4  \\\n",
       "id_indiv                                                                \n",
       "G077Z53B1               False               False               False   \n",
       "G077Z84B2                True                True                True   \n",
       "G0874XHC1               False               False               False   \n",
       "G097435C1               False                True                True   \n",
       "G0C7E79C1               False               False               False   \n",
       "\n",
       "          changement_statut  \n",
       "id_indiv                     \n",
       "G077Z53B1             False  \n",
       "G077Z84B2              True  \n",
       "G0874XHC1             False  \n",
       "G097435C1              True  \n",
       "G0C7E79C1             False  "
      ]
     },
     "execution_count": 43,
     "metadata": {},
     "output_type": "execute_result"
    }
   ],
   "source": [
    "df_indep.head()"
   ]
  },
  {
   "cell_type": "code",
   "execution_count": 44,
   "metadata": {
    "collapsed": false
   },
   "outputs": [
    {
     "data": {
      "text/plain": [
       "False    0.776974\n",
       "True     0.223026\n",
       "dtype: float64"
      ]
     },
     "execution_count": 44,
     "metadata": {},
     "output_type": "execute_result"
    }
   ],
   "source": [
    "df_indep.changement_statut.value_counts(normalize=True)\n"
   ]
  },
  {
   "cell_type": "code",
   "execution_count": 45,
   "metadata": {
    "collapsed": false
   },
   "outputs": [
    {
     "data": {
      "text/plain": [
       "(1659, 26)"
      ]
     },
     "execution_count": 45,
     "metadata": {},
     "output_type": "execute_result"
    }
   ],
   "source": [
    "df_indep.shape"
   ]
  },
  {
   "cell_type": "markdown",
   "metadata": {},
   "source": [
    "## eliminer les NAN de la variable SP"
   ]
  },
  {
   "cell_type": "code",
   "execution_count": 46,
   "metadata": {
    "collapsed": false
   },
   "outputs": [
    {
     "name": "stderr",
     "output_type": "stream",
     "text": [
      "/usr/local/lib/python2.7/site-packages/ipykernel/__main__.py:1: SettingWithCopyWarning: \n",
      "A value is trying to be set on a copy of a slice from a DataFrame.\n",
      "Try using .loc[row_indexer,col_indexer] = value instead\n",
      "\n",
      "See the the caveats in the documentation: http://pandas.pydata.org/pandas-docs/stable/indexing.html#indexing-view-versus-copy\n",
      "  if __name__ == '__main__':\n"
     ]
    }
   ],
   "source": [
    "df_indep['nb_SP_null'] = df_indep[[\"SP00_{}\".format(trim) for trim in range(2,5)]].isnull().sum(1) "
   ]
  },
  {
   "cell_type": "code",
   "execution_count": 47,
   "metadata": {
    "collapsed": false
   },
   "outputs": [
    {
     "data": {
      "text/html": [
       "<div>\n",
       "<table border=\"1\" class=\"dataframe\">\n",
       "  <thead>\n",
       "    <tr style=\"text-align: right;\">\n",
       "      <th></th>\n",
       "      <th>STC_1</th>\n",
       "      <th>STC_2</th>\n",
       "      <th>STC_3</th>\n",
       "      <th>STC_4</th>\n",
       "      <th>SP00_1</th>\n",
       "      <th>SP00_2</th>\n",
       "      <th>SP00_3</th>\n",
       "      <th>SP00_4</th>\n",
       "      <th>STATUTP_1</th>\n",
       "      <th>STATUTP_2</th>\n",
       "      <th>STATUTP_3</th>\n",
       "      <th>STATUTP_4</th>\n",
       "      <th>STATUT_1</th>\n",
       "      <th>STATUT_2</th>\n",
       "      <th>STATUT_3</th>\n",
       "      <th>STATUT_4</th>\n",
       "      <th>EXTRI13</th>\n",
       "      <th>EXTRI113</th>\n",
       "      <th>EXTRI1613</th>\n",
       "      <th>changement_STC_2</th>\n",
       "      <th>changement_STC_3</th>\n",
       "      <th>changement_STC_4</th>\n",
       "      <th>changement_STATUT_2</th>\n",
       "      <th>changement_STATUT_3</th>\n",
       "      <th>changement_STATUT_4</th>\n",
       "      <th>changement_statut</th>\n",
       "      <th>nb_SP_null</th>\n",
       "    </tr>\n",
       "    <tr>\n",
       "      <th>id_indiv</th>\n",
       "      <th></th>\n",
       "      <th></th>\n",
       "      <th></th>\n",
       "      <th></th>\n",
       "      <th></th>\n",
       "      <th></th>\n",
       "      <th></th>\n",
       "      <th></th>\n",
       "      <th></th>\n",
       "      <th></th>\n",
       "      <th></th>\n",
       "      <th></th>\n",
       "      <th></th>\n",
       "      <th></th>\n",
       "      <th></th>\n",
       "      <th></th>\n",
       "      <th></th>\n",
       "      <th></th>\n",
       "      <th></th>\n",
       "      <th></th>\n",
       "      <th></th>\n",
       "      <th></th>\n",
       "      <th></th>\n",
       "      <th></th>\n",
       "      <th></th>\n",
       "      <th></th>\n",
       "      <th></th>\n",
       "    </tr>\n",
       "  </thead>\n",
       "  <tbody>\n",
       "    <tr>\n",
       "      <th>G077Z84B2</th>\n",
       "      <td>NaN</td>\n",
       "      <td>1</td>\n",
       "      <td>NaN</td>\n",
       "      <td>NaN</td>\n",
       "      <td>6</td>\n",
       "      <td>1</td>\n",
       "      <td>NaN</td>\n",
       "      <td>1</td>\n",
       "      <td>NaN</td>\n",
       "      <td>NaN</td>\n",
       "      <td>NaN</td>\n",
       "      <td>NaN</td>\n",
       "      <td>NaN</td>\n",
       "      <td>11</td>\n",
       "      <td>NaN</td>\n",
       "      <td>NaN</td>\n",
       "      <td>1104.184675</td>\n",
       "      <td>0.000000</td>\n",
       "      <td>0.000000</td>\n",
       "      <td>True</td>\n",
       "      <td>True</td>\n",
       "      <td>True</td>\n",
       "      <td>True</td>\n",
       "      <td>True</td>\n",
       "      <td>True</td>\n",
       "      <td>True</td>\n",
       "      <td>1</td>\n",
       "    </tr>\n",
       "    <tr>\n",
       "      <th>G097435C1</th>\n",
       "      <td>2</td>\n",
       "      <td>2</td>\n",
       "      <td>NaN</td>\n",
       "      <td>2</td>\n",
       "      <td>1</td>\n",
       "      <td>1</td>\n",
       "      <td>NaN</td>\n",
       "      <td>1</td>\n",
       "      <td>NaN</td>\n",
       "      <td>NaN</td>\n",
       "      <td>NaN</td>\n",
       "      <td>NaN</td>\n",
       "      <td>11</td>\n",
       "      <td>11</td>\n",
       "      <td>NaN</td>\n",
       "      <td>11</td>\n",
       "      <td>954.584668</td>\n",
       "      <td>0.000000</td>\n",
       "      <td>0.000000</td>\n",
       "      <td>False</td>\n",
       "      <td>True</td>\n",
       "      <td>True</td>\n",
       "      <td>False</td>\n",
       "      <td>True</td>\n",
       "      <td>True</td>\n",
       "      <td>True</td>\n",
       "      <td>1</td>\n",
       "    </tr>\n",
       "    <tr>\n",
       "      <th>G117MALE1</th>\n",
       "      <td>2</td>\n",
       "      <td>1</td>\n",
       "      <td>NaN</td>\n",
       "      <td>1</td>\n",
       "      <td>1</td>\n",
       "      <td>1</td>\n",
       "      <td>NaN</td>\n",
       "      <td>1</td>\n",
       "      <td>NaN</td>\n",
       "      <td>NaN</td>\n",
       "      <td>NaN</td>\n",
       "      <td>NaN</td>\n",
       "      <td>33</td>\n",
       "      <td>11</td>\n",
       "      <td>NaN</td>\n",
       "      <td>11</td>\n",
       "      <td>717.855885</td>\n",
       "      <td>0.000000</td>\n",
       "      <td>0.000000</td>\n",
       "      <td>True</td>\n",
       "      <td>True</td>\n",
       "      <td>True</td>\n",
       "      <td>True</td>\n",
       "      <td>True</td>\n",
       "      <td>True</td>\n",
       "      <td>True</td>\n",
       "      <td>1</td>\n",
       "    </tr>\n",
       "    <tr>\n",
       "      <th>G2710XXZ3</th>\n",
       "      <td>2</td>\n",
       "      <td>NaN</td>\n",
       "      <td>1</td>\n",
       "      <td>1</td>\n",
       "      <td>1</td>\n",
       "      <td>NaN</td>\n",
       "      <td>1</td>\n",
       "      <td>1</td>\n",
       "      <td>35</td>\n",
       "      <td>NaN</td>\n",
       "      <td>NaN</td>\n",
       "      <td>NaN</td>\n",
       "      <td>35</td>\n",
       "      <td>NaN</td>\n",
       "      <td>11</td>\n",
       "      <td>11</td>\n",
       "      <td>798.631244</td>\n",
       "      <td>536.135092</td>\n",
       "      <td>268.067546</td>\n",
       "      <td>True</td>\n",
       "      <td>True</td>\n",
       "      <td>False</td>\n",
       "      <td>True</td>\n",
       "      <td>True</td>\n",
       "      <td>False</td>\n",
       "      <td>True</td>\n",
       "      <td>1</td>\n",
       "    </tr>\n",
       "    <tr>\n",
       "      <th>G2A1AZDZ2</th>\n",
       "      <td>2</td>\n",
       "      <td>NaN</td>\n",
       "      <td>2</td>\n",
       "      <td>2</td>\n",
       "      <td>1</td>\n",
       "      <td>NaN</td>\n",
       "      <td>1</td>\n",
       "      <td>1</td>\n",
       "      <td>11</td>\n",
       "      <td>NaN</td>\n",
       "      <td>NaN</td>\n",
       "      <td>NaN</td>\n",
       "      <td>11</td>\n",
       "      <td>NaN</td>\n",
       "      <td>11</td>\n",
       "      <td>11</td>\n",
       "      <td>680.708792</td>\n",
       "      <td>488.433484</td>\n",
       "      <td>244.216742</td>\n",
       "      <td>True</td>\n",
       "      <td>True</td>\n",
       "      <td>False</td>\n",
       "      <td>True</td>\n",
       "      <td>True</td>\n",
       "      <td>False</td>\n",
       "      <td>True</td>\n",
       "      <td>1</td>\n",
       "    </tr>\n",
       "  </tbody>\n",
       "</table>\n",
       "</div>"
      ],
      "text/plain": [
       "           STC_1  STC_2  STC_3  STC_4  SP00_1  SP00_2  SP00_3  SP00_4  \\\n",
       "id_indiv                                                                \n",
       "G077Z84B2    NaN      1    NaN    NaN       6       1     NaN       1   \n",
       "G097435C1      2      2    NaN      2       1       1     NaN       1   \n",
       "G117MALE1      2      1    NaN      1       1       1     NaN       1   \n",
       "G2710XXZ3      2    NaN      1      1       1     NaN       1       1   \n",
       "G2A1AZDZ2      2    NaN      2      2       1     NaN       1       1   \n",
       "\n",
       "           STATUTP_1  STATUTP_2  STATUTP_3  STATUTP_4  STATUT_1  STATUT_2  \\\n",
       "id_indiv                                                                    \n",
       "G077Z84B2        NaN        NaN        NaN        NaN       NaN        11   \n",
       "G097435C1        NaN        NaN        NaN        NaN        11        11   \n",
       "G117MALE1        NaN        NaN        NaN        NaN        33        11   \n",
       "G2710XXZ3         35        NaN        NaN        NaN        35       NaN   \n",
       "G2A1AZDZ2         11        NaN        NaN        NaN        11       NaN   \n",
       "\n",
       "           STATUT_3  STATUT_4      EXTRI13    EXTRI113   EXTRI1613  \\\n",
       "id_indiv                                                             \n",
       "G077Z84B2       NaN       NaN  1104.184675    0.000000    0.000000   \n",
       "G097435C1       NaN        11   954.584668    0.000000    0.000000   \n",
       "G117MALE1       NaN        11   717.855885    0.000000    0.000000   \n",
       "G2710XXZ3        11        11   798.631244  536.135092  268.067546   \n",
       "G2A1AZDZ2        11        11   680.708792  488.433484  244.216742   \n",
       "\n",
       "          changement_STC_2 changement_STC_3 changement_STC_4  \\\n",
       "id_indiv                                                       \n",
       "G077Z84B2             True             True             True   \n",
       "G097435C1            False             True             True   \n",
       "G117MALE1             True             True             True   \n",
       "G2710XXZ3             True             True            False   \n",
       "G2A1AZDZ2             True             True            False   \n",
       "\n",
       "          changement_STATUT_2 changement_STATUT_3 changement_STATUT_4  \\\n",
       "id_indiv                                                                \n",
       "G077Z84B2                True                True                True   \n",
       "G097435C1               False                True                True   \n",
       "G117MALE1                True                True                True   \n",
       "G2710XXZ3                True                True               False   \n",
       "G2A1AZDZ2                True                True               False   \n",
       "\n",
       "          changement_statut  nb_SP_null  \n",
       "id_indiv                                 \n",
       "G077Z84B2              True           1  \n",
       "G097435C1              True           1  \n",
       "G117MALE1              True           1  \n",
       "G2710XXZ3              True           1  \n",
       "G2A1AZDZ2              True           1  "
      ]
     },
     "execution_count": 47,
     "metadata": {},
     "output_type": "execute_result"
    }
   ],
   "source": [
    "df_indep[df_indep.nb_SP_null!=0].head()"
   ]
  },
  {
   "cell_type": "markdown",
   "metadata": {},
   "source": [
    "##### Avant pondération"
   ]
  },
  {
   "cell_type": "code",
   "execution_count": 48,
   "metadata": {
    "collapsed": false
   },
   "outputs": [
    {
     "data": {
      "text/plain": [
       "False    0.846912\n",
       "True     0.153088\n",
       "dtype: float64"
      ]
     },
     "execution_count": 48,
     "metadata": {},
     "output_type": "execute_result"
    }
   ],
   "source": [
    "df_indep[df_indep.nb_SP_null==0].changement_statut.value_counts(normalize=True)"
   ]
  },
  {
   "cell_type": "markdown",
   "metadata": {},
   "source": [
    "15,3% des indépendants dont les 4 situations sont d'emploi (variable SP) sont renseignées ont un changement de situation dans l'année"
   ]
  },
  {
   "cell_type": "markdown",
   "metadata": {},
   "source": [
    "##### Après pondération"
   ]
  },
  {
   "cell_type": "code",
   "execution_count": 49,
   "metadata": {
    "collapsed": false,
    "scrolled": true
   },
   "outputs": [
    {
     "name": "stdout",
     "output_type": "stream",
     "text": [
      "2.14315594246\n",
      "0.338635047624\n"
     ]
    },
    {
     "data": {
      "text/plain": [
       "0.15800765633294672"
      ]
     },
     "execution_count": 49,
     "metadata": {},
     "output_type": "execute_result"
    }
   ],
   "source": [
    "print df_indep[df_indep.nb_SP_null==0].EXTRI13.sum()/10**6\n",
    "print (df_indep[df_indep.nb_SP_null==0].changement_statut * df_indep[df_indep.nb_SP_null==0].EXTRI13).sum()/10**6\n",
    "(df_indep[df_indep.nb_SP_null==0].changement_statut * df_indep[df_indep.nb_SP_null==0].EXTRI13).sum()/ df_indep[df_indep.nb_SP_null==0].EXTRI13.sum()"
   ]
  },
  {
   "cell_type": "markdown",
   "metadata": {},
   "source": [
    "Sur les 2.14 millions d'indépendants en 2012, 338 000 ont changé de statut pour ne plus être ou devenir indépendant. Soit 15,8% es indépendants."
   ]
  },
  {
   "cell_type": "code",
   "execution_count": 50,
   "metadata": {
    "collapsed": false
   },
   "outputs": [
    {
     "data": {
      "text/html": [
       "<div>\n",
       "<table border=\"1\" class=\"dataframe\">\n",
       "  <thead>\n",
       "    <tr style=\"text-align: right;\">\n",
       "      <th></th>\n",
       "      <th>SP00_1</th>\n",
       "      <th>SP00_2</th>\n",
       "      <th>SP00_3</th>\n",
       "      <th>SP00_4</th>\n",
       "      <th>changement_statut</th>\n",
       "    </tr>\n",
       "    <tr>\n",
       "      <th>id_indiv</th>\n",
       "      <th></th>\n",
       "      <th></th>\n",
       "      <th></th>\n",
       "      <th></th>\n",
       "      <th></th>\n",
       "    </tr>\n",
       "  </thead>\n",
       "  <tbody>\n",
       "    <tr>\n",
       "      <th>G0E7OJPC3</th>\n",
       "      <td>3</td>\n",
       "      <td>3</td>\n",
       "      <td>1</td>\n",
       "      <td>1</td>\n",
       "      <td>True</td>\n",
       "    </tr>\n",
       "    <tr>\n",
       "      <th>G0F5T0VD1</th>\n",
       "      <td>3</td>\n",
       "      <td>1</td>\n",
       "      <td>1</td>\n",
       "      <td>3</td>\n",
       "      <td>True</td>\n",
       "    </tr>\n",
       "    <tr>\n",
       "      <th>G0H7YQPC1</th>\n",
       "      <td>3</td>\n",
       "      <td>3</td>\n",
       "      <td>1</td>\n",
       "      <td>1</td>\n",
       "      <td>True</td>\n",
       "    </tr>\n",
       "    <tr>\n",
       "      <th>G0J53APE2</th>\n",
       "      <td>3</td>\n",
       "      <td>1</td>\n",
       "      <td>1</td>\n",
       "      <td>1</td>\n",
       "      <td>True</td>\n",
       "    </tr>\n",
       "    <tr>\n",
       "      <th>G0W5HNAF2</th>\n",
       "      <td>1</td>\n",
       "      <td>1</td>\n",
       "      <td>3</td>\n",
       "      <td>1</td>\n",
       "      <td>True</td>\n",
       "    </tr>\n",
       "  </tbody>\n",
       "</table>\n",
       "</div>"
      ],
      "text/plain": [
       "           SP00_1  SP00_2  SP00_3  SP00_4 changement_statut\n",
       "id_indiv                                                   \n",
       "G0E7OJPC3       3       3       1       1              True\n",
       "G0F5T0VD1       3       1       1       3              True\n",
       "G0H7YQPC1       3       3       1       1              True\n",
       "G0J53APE2       3       1       1       1              True\n",
       "G0W5HNAF2       1       1       3       1              True"
      ]
     },
     "execution_count": 50,
     "metadata": {},
     "output_type": "execute_result"
    }
   ],
   "source": [
    "df_indep[df_indep.nb_SP_null==0][ (df_indep[df_indep.nb_SP_null==0].changement_statut) == True][\n",
    "    ['SP00_1', 'SP00_2', 'SP00_3', 'SP00_4', 'changement_statut']].head()"
   ]
  },
  {
   "cell_type": "code",
   "execution_count": 51,
   "metadata": {
    "collapsed": false
   },
   "outputs": [
    {
     "name": "stdout",
     "output_type": "stream",
     "text": [
      "0.174042863047\n",
      "0.159923088861\n"
     ]
    }
   ],
   "source": [
    "print (df_indep[df_indep.nb_SP_null==0].changement_statut * df_indep[df_indep.nb_SP_null==0].EXTRI113).sum()/ df_indep[df_indep.nb_SP_null==0].EXTRI113.sum()\n",
    "print (df_indep[df_indep.nb_SP_null==0].changement_statut * df_indep[df_indep.nb_SP_null==0].EXTRI1613).sum()/ df_indep[df_indep.nb_SP_null==0].EXTRI1613.sum()"
   ]
  },
  {
   "cell_type": "code",
   "execution_count": 52,
   "metadata": {
    "collapsed": false
   },
   "outputs": [
    {
     "data": {
      "text/plain": [
       "False    1289\n",
       "True      233\n",
       "dtype: int64"
      ]
     },
     "execution_count": 52,
     "metadata": {},
     "output_type": "execute_result"
    }
   ],
   "source": [
    "df_indep[df_indep.nb_SP_null==0].changement_statut.value_counts(normalize=False)"
   ]
  },
  {
   "cell_type": "code",
   "execution_count": 53,
   "metadata": {
    "collapsed": false
   },
   "outputs": [
    {
     "data": {
      "text/plain": [
       "2.1431559424586624"
      ]
     },
     "execution_count": 53,
     "metadata": {},
     "output_type": "execute_result"
    }
   ],
   "source": [
    "(df_indep[df_indep.nb_SP_null==0].EXTRI13.sum()/10**6)"
   ]
  },
  {
   "cell_type": "code",
   "execution_count": 54,
   "metadata": {
    "collapsed": true
   },
   "outputs": [],
   "source": [
    "# On recale les poids pour prendre en compte ceux qui ont une SP vide, toujours en admettant qu'il n'y a pas de biais de sélection..."
   ]
  },
  {
   "cell_type": "code",
   "execution_count": 55,
   "metadata": {
    "collapsed": false
   },
   "outputs": [
    {
     "data": {
      "text/plain": [
       "2.2854623602652344"
      ]
     },
     "execution_count": 55,
     "metadata": {},
     "output_type": "execute_result"
    }
   ],
   "source": [
    "df_indep.EXTRI13.sum()/10**6"
   ]
  },
  {
   "cell_type": "code",
   "execution_count": 56,
   "metadata": {
    "collapsed": false
   },
   "outputs": [
    {
     "data": {
      "text/plain": [
       "2.2854623602652353"
      ]
     },
     "execution_count": 56,
     "metadata": {},
     "output_type": "execute_result"
    }
   ],
   "source": [
    "(df_indep[df_indep.nb_SP_null==0].EXTRI13 * (df_indep.EXTRI13.sum()/df_indep[df_indep.nb_SP_null==0].EXTRI13.sum())).sum()/10**6"
   ]
  },
  {
   "cell_type": "markdown",
   "metadata": {
    "collapsed": true
   },
   "source": [
    "C'est bon au erreurs d'arrondis prét"
   ]
  },
  {
   "cell_type": "code",
   "execution_count": 57,
   "metadata": {
    "collapsed": false
   },
   "outputs": [
    {
     "name": "stderr",
     "output_type": "stream",
     "text": [
      "/usr/local/lib/python2.7/site-packages/ipykernel/__main__.py:1: SettingWithCopyWarning: \n",
      "A value is trying to be set on a copy of a slice from a DataFrame.\n",
      "Try using .loc[row_indexer,col_indexer] = value instead\n",
      "\n",
      "See the the caveats in the documentation: http://pandas.pydata.org/pandas-docs/stable/indexing.html#indexing-view-versus-copy\n",
      "  if __name__ == '__main__':\n"
     ]
    }
   ],
   "source": [
    "df_indep[\"EXTRI\"] = df_indep[df_indep.nb_SP_null==0].EXTRI13 * (df_indep.EXTRI13.sum()/df_indep[df_indep.nb_SP_null==0].EXTRI13.sum())"
   ]
  },
  {
   "cell_type": "markdown",
   "metadata": {},
   "source": [
    "## Transitions"
   ]
  },
  {
   "cell_type": "code",
   "execution_count": 58,
   "metadata": {
    "collapsed": false
   },
   "outputs": [
    {
     "name": "stderr",
     "output_type": "stream",
     "text": [
      "/usr/local/lib/python2.7/site-packages/ipykernel/__main__.py:23: SettingWithCopyWarning: \n",
      "A value is trying to be set on a copy of a slice from a DataFrame.\n",
      "Try using .loc[row_indexer,col_indexer] = value instead\n",
      "\n",
      "See the the caveats in the documentation: http://pandas.pydata.org/pandas-docs/stable/indexing.html#indexing-view-versus-copy\n",
      "/usr/local/lib/python2.7/site-packages/ipykernel/__main__.py:24: SettingWithCopyWarning: \n",
      "A value is trying to be set on a copy of a slice from a DataFrame.\n",
      "Try using .loc[row_indexer,col_indexer] = value instead\n",
      "\n",
      "See the the caveats in the documentation: http://pandas.pydata.org/pandas-docs/stable/indexing.html#indexing-view-versus-copy\n",
      "/usr/local/lib/python2.7/site-packages/pandas/computation/expressions.py:190: UserWarning: evaluating in Python space because the '*' operator is not supported by numexpr for the bool dtype, use '&' instead\n",
      "  unsupported[op_str]))\n",
      "/usr/local/lib/python2.7/site-packages/ipykernel/__main__.py:32: SettingWithCopyWarning: \n",
      "A value is trying to be set on a copy of a slice from a DataFrame.\n",
      "Try using .loc[row_indexer,col_indexer] = value instead\n",
      "\n",
      "See the the caveats in the documentation: http://pandas.pydata.org/pandas-docs/stable/indexing.html#indexing-view-versus-copy\n",
      "/usr/local/lib/python2.7/site-packages/ipykernel/__main__.py:33: SettingWithCopyWarning: \n",
      "A value is trying to be set on a copy of a slice from a DataFrame.\n",
      "Try using .loc[row_indexer,col_indexer] = value instead\n",
      "\n",
      "See the the caveats in the documentation: http://pandas.pydata.org/pandas-docs/stable/indexing.html#indexing-view-versus-copy\n",
      "/usr/local/lib/python2.7/site-packages/ipykernel/__main__.py:34: SettingWithCopyWarning: \n",
      "A value is trying to be set on a copy of a slice from a DataFrame.\n",
      "Try using .loc[row_indexer,col_indexer] = value instead\n",
      "\n",
      "See the the caveats in the documentation: http://pandas.pydata.org/pandas-docs/stable/indexing.html#indexing-view-versus-copy\n",
      "/usr/local/lib/python2.7/site-packages/ipykernel/__main__.py:35: SettingWithCopyWarning: \n",
      "A value is trying to be set on a copy of a slice from a DataFrame.\n",
      "Try using .loc[row_indexer,col_indexer] = value instead\n",
      "\n",
      "See the the caveats in the documentation: http://pandas.pydata.org/pandas-docs/stable/indexing.html#indexing-view-versus-copy\n",
      "/usr/local/lib/python2.7/site-packages/ipykernel/__main__.py:36: SettingWithCopyWarning: \n",
      "A value is trying to be set on a copy of a slice from a DataFrame.\n",
      "Try using .loc[row_indexer,col_indexer] = value instead\n",
      "\n",
      "See the the caveats in the documentation: http://pandas.pydata.org/pandas-docs/stable/indexing.html#indexing-view-versus-copy\n",
      "/usr/local/lib/python2.7/site-packages/ipykernel/__main__.py:38: SettingWithCopyWarning: \n",
      "A value is trying to be set on a copy of a slice from a DataFrame.\n",
      "Try using .loc[row_indexer,col_indexer] = value instead\n",
      "\n",
      "See the the caveats in the documentation: http://pandas.pydata.org/pandas-docs/stable/indexing.html#indexing-view-versus-copy\n",
      "/usr/local/lib/python2.7/site-packages/ipykernel/__main__.py:39: SettingWithCopyWarning: \n",
      "A value is trying to be set on a copy of a slice from a DataFrame.\n",
      "Try using .loc[row_indexer,col_indexer] = value instead\n",
      "\n",
      "See the the caveats in the documentation: http://pandas.pydata.org/pandas-docs/stable/indexing.html#indexing-view-versus-copy\n",
      "/usr/local/lib/python2.7/site-packages/ipykernel/__main__.py:40: SettingWithCopyWarning: \n",
      "A value is trying to be set on a copy of a slice from a DataFrame.\n",
      "Try using .loc[row_indexer,col_indexer] = value instead\n",
      "\n",
      "See the the caveats in the documentation: http://pandas.pydata.org/pandas-docs/stable/indexing.html#indexing-view-versus-copy\n",
      "/usr/local/lib/python2.7/site-packages/ipykernel/__main__.py:41: SettingWithCopyWarning: \n",
      "A value is trying to be set on a copy of a slice from a DataFrame.\n",
      "Try using .loc[row_indexer,col_indexer] = value instead\n",
      "\n",
      "See the the caveats in the documentation: http://pandas.pydata.org/pandas-docs/stable/indexing.html#indexing-view-versus-copy\n",
      "/usr/local/lib/python2.7/site-packages/ipykernel/__main__.py:42: SettingWithCopyWarning: \n",
      "A value is trying to be set on a copy of a slice from a DataFrame.\n",
      "Try using .loc[row_indexer,col_indexer] = value instead\n",
      "\n",
      "See the the caveats in the documentation: http://pandas.pydata.org/pandas-docs/stable/indexing.html#indexing-view-versus-copy\n"
     ]
    }
   ],
   "source": [
    "for trim in range(2,5):\n",
    "    \n",
    "    quite_indep = \"quite_indep_{}\".format(trim)\n",
    "    devient_indep = \"devient_indep_{}\".format(trim)\n",
    "    \n",
    "    \n",
    "    transition_indep_retraite = \"transition_indep_retraite_{}\".format(trim)\n",
    "    transition_indep_inact = \"transition_indep_inact_{}\".format(trim)\n",
    "    \n",
    "    transition_chomage_indep = \"transition_chomage_indep{}\".format(trim)\n",
    "    transition_retraite_indep = \"transition_retraite_indep{}\".format(trim)\n",
    "    transition_inact_indep = \"transition_inact_indep{}\".format(trim)\n",
    "    \n",
    "    transition_sal_indep = \"transition_sal_indep{}\".format(trim)\n",
    "    transition_indep_sal = \"transition_indep_sal{}\".format(trim)\n",
    "\n",
    "    \n",
    "    \n",
    "    \n",
    "    statut_minus_one = \"STATUT_{}\".format(trim-1)\n",
    "    statut = \"STATUT_{}\".format(trim)\n",
    "\n",
    "    df_indep[devient_indep] = ((df_indep[statut]==11) & (df_indep[statut_minus_one] !=11))\n",
    "    df_indep[quite_indep] = ((df_indep[statut]!=11) & (df_indep[statut_minus_one] ==11))\n",
    "    \n",
    "\n",
    "    \n",
    "    \n",
    "\n",
    "    \n",
    "    \n",
    "    df_indep[\"transition_sal_indep_{}\".format(trim)] = df_indep[devient_indep] * (df_indep[\"SP00_{}\".format(trim-1)] == 1)\n",
    "    df_indep[\"transition_chomage_indep_{}\".format(trim)] = df_indep[devient_indep] * (df_indep[\"SP00_{}\".format(trim-1)] == 3)\n",
    "    df_indep[\"transition_retraite_indep_{}\".format(trim)] = df_indep[devient_indep] * (df_indep[\"SP00_{}\".format(trim-1)] == 4)\n",
    "    df_indep[\"transition_inact_indep_{}\".format(trim).format(trim)] = df_indep[devient_indep] * (df_indep[\"SP00_{}\".format(trim-1)] >4 )\n",
    "    df_indep[\"transition_etu_indep_{}\".format(trim)] = df_indep[devient_indep] * (df_indep[\"SP00_{}\".format(trim-1)] == 2)\n",
    "    \n",
    "    df_indep[\"transition_indep_sal_{}\".format(trim)] = df_indep[quite_indep] * (df_indep[\"SP00_{}\".format(trim)] == 1)    \n",
    "    df_indep[\"transition_indep_chomage_{}\".format(trim)] = df_indep[quite_indep] * (df_indep[\"SP00_{}\".format(trim)] == 3)\n",
    "    df_indep[\"transition_indep_retraite_{}\".format(trim)] = df_indep[quite_indep] * (df_indep[\"SP00_{}\".format(trim)] == 4)\n",
    "    df_indep[\"transition_indep_inact_{}\".format(trim).format(trim)] = df_indep[quite_indep] * (df_indep[\"SP00_{}\".format(trim)] >4 )\n",
    "    df_indep[\"transition_indep_etu_{}\".format(trim)] = df_indep[quite_indep] * (df_indep[\"SP00_{}\".format(trim)] == 2)\n",
    "    \n",
    "    "
   ]
  },
  {
   "cell_type": "code",
   "execution_count": 59,
   "metadata": {
    "collapsed": false
   },
   "outputs": [
    {
     "name": "stderr",
     "output_type": "stream",
     "text": [
      "/usr/local/lib/python2.7/site-packages/ipykernel/__main__.py:1: SettingWithCopyWarning: \n",
      "A value is trying to be set on a copy of a slice from a DataFrame.\n",
      "Try using .loc[row_indexer,col_indexer] = value instead\n",
      "\n",
      "See the the caveats in the documentation: http://pandas.pydata.org/pandas-docs/stable/indexing.html#indexing-view-versus-copy\n",
      "  if __name__ == '__main__':\n",
      "/usr/local/lib/python2.7/site-packages/ipykernel/__main__.py:2: SettingWithCopyWarning: \n",
      "A value is trying to be set on a copy of a slice from a DataFrame.\n",
      "Try using .loc[row_indexer,col_indexer] = value instead\n",
      "\n",
      "See the the caveats in the documentation: http://pandas.pydata.org/pandas-docs/stable/indexing.html#indexing-view-versus-copy\n",
      "  from ipykernel import kernelapp as app\n"
     ]
    }
   ],
   "source": [
    "df_indep['to_chomage'] = df_indep[[\"transition_indep_chomage_{}\".format(trim) for trim in range(2,5)]].sum(1)>0\n",
    "df_indep['from_chomage'] = df_indep[[\"transition_chomage_indep_{}\".format(trim) for trim in range(2,5)]].sum(1)>0"
   ]
  },
  {
   "cell_type": "code",
   "execution_count": 60,
   "metadata": {
    "collapsed": false
   },
   "outputs": [
    {
     "name": "stdout",
     "output_type": "stream",
     "text": [
      "35\n",
      "64\n"
     ]
    }
   ],
   "source": [
    "print df_indep.to_chomage.sum()\n",
    "print df_indep.from_chomage.sum()"
   ]
  },
  {
   "cell_type": "markdown",
   "metadata": {},
   "source": [
    "#### Pondéré"
   ]
  },
  {
   "cell_type": "code",
   "execution_count": 61,
   "metadata": {
    "collapsed": false
   },
   "outputs": [
    {
     "name": "stdout",
     "output_type": "stream",
     "text": [
      "0.0511914766193\n",
      "0.0907928474166\n"
     ]
    }
   ],
   "source": [
    "print (df_indep.to_chomage * df_indep.EXTRI).sum() /10**6\n",
    "print (df_indep.from_chomage * df_indep.EXTRI).sum() /10**6"
   ]
  },
  {
   "cell_type": "markdown",
   "metadata": {},
   "source": [
    "50 000 tombent au chomage, 90 000 sortent du chomage"
   ]
  },
  {
   "cell_type": "code",
   "execution_count": 155,
   "metadata": {
    "collapsed": false
   },
   "outputs": [
    {
     "name": "stderr",
     "output_type": "stream",
     "text": [
      "/usr/local/lib/python2.7/site-packages/ipykernel/__main__.py:2: SettingWithCopyWarning: \n",
      "A value is trying to be set on a copy of a slice from a DataFrame.\n",
      "Try using .loc[row_indexer,col_indexer] = value instead\n",
      "\n",
      "See the the caveats in the documentation: http://pandas.pydata.org/pandas-docs/stable/indexing.html#indexing-view-versus-copy\n",
      "  from ipykernel import kernelapp as app\n",
      "/usr/local/lib/python2.7/site-packages/ipykernel/__main__.py:3: SettingWithCopyWarning: \n",
      "A value is trying to be set on a copy of a slice from a DataFrame.\n",
      "Try using .loc[row_indexer,col_indexer] = value instead\n",
      "\n",
      "See the the caveats in the documentation: http://pandas.pydata.org/pandas-docs/stable/indexing.html#indexing-view-versus-copy\n",
      "  app.launch_new_instance()\n"
     ]
    }
   ],
   "source": [
    "\n",
    "df_indep['to_retraite'] =  df_indep[[\"transition_indep_retraite_{}\".format(trim) for trim in range(2,5)]].sum(1)>0\n",
    "df_indep['from_retraite'] = df_indep[[\"transition_retraite_indep_{}\".format(trim) for trim in range(2,5)]].sum(1)>0"
   ]
  },
  {
   "cell_type": "code",
   "execution_count": 156,
   "metadata": {
    "collapsed": false
   },
   "outputs": [
    {
     "name": "stdout",
     "output_type": "stream",
     "text": [
      "32\n",
      "8\n",
      "0.0390196762923\n",
      "0.00935637158666\n"
     ]
    }
   ],
   "source": [
    "print df_indep.to_retraite.sum()\n",
    "print df_indep.from_retraite.sum()\n",
    "print (df_indep.to_retraite * df_indep.EXTRI).sum() /10**6\n",
    "print (df_indep.from_retraite * df_indep.EXTRI).sum() /10**6"
   ]
  },
  {
   "cell_type": "code",
   "execution_count": 157,
   "metadata": {
    "collapsed": false
   },
   "outputs": [
    {
     "name": "stdout",
     "output_type": "stream",
     "text": [
      "16\n",
      "12\n",
      "0.0224912250045\n",
      "0.0177665468816\n"
     ]
    },
    {
     "name": "stderr",
     "output_type": "stream",
     "text": [
      "/usr/local/lib/python2.7/site-packages/ipykernel/__main__.py:2: SettingWithCopyWarning: \n",
      "A value is trying to be set on a copy of a slice from a DataFrame.\n",
      "Try using .loc[row_indexer,col_indexer] = value instead\n",
      "\n",
      "See the the caveats in the documentation: http://pandas.pydata.org/pandas-docs/stable/indexing.html#indexing-view-versus-copy\n",
      "  from ipykernel import kernelapp as app\n",
      "/usr/local/lib/python2.7/site-packages/ipykernel/__main__.py:3: SettingWithCopyWarning: \n",
      "A value is trying to be set on a copy of a slice from a DataFrame.\n",
      "Try using .loc[row_indexer,col_indexer] = value instead\n",
      "\n",
      "See the the caveats in the documentation: http://pandas.pydata.org/pandas-docs/stable/indexing.html#indexing-view-versus-copy\n",
      "  app.launch_new_instance()\n"
     ]
    }
   ],
   "source": [
    "\n",
    "df_indep['to_inact'] = df_indep[[\"transition_indep_inact_{}\".format(trim) for trim in range(2,5)]].sum(1)>0\n",
    "df_indep['from_inact'] = df_indep[[\"transition_inact_indep_{}\".format(trim) for trim in range(2,5)]].sum(1)>0\n",
    "\n",
    "print df_indep.to_inact.sum()\n",
    "print df_indep.from_inact.sum()\n",
    "print (df_indep.to_inact * df_indep.EXTRI).sum() /10**6\n",
    "print (df_indep.from_inact * df_indep.EXTRI).sum() /10**6"
   ]
  },
  {
   "cell_type": "code",
   "execution_count": 158,
   "metadata": {
    "collapsed": false
   },
   "outputs": [
    {
     "name": "stdout",
     "output_type": "stream",
     "text": [
      "0\n",
      "3\n",
      "0.0\n",
      "0.00286542610915\n"
     ]
    },
    {
     "name": "stderr",
     "output_type": "stream",
     "text": [
      "/usr/local/lib/python2.7/site-packages/ipykernel/__main__.py:2: SettingWithCopyWarning: \n",
      "A value is trying to be set on a copy of a slice from a DataFrame.\n",
      "Try using .loc[row_indexer,col_indexer] = value instead\n",
      "\n",
      "See the the caveats in the documentation: http://pandas.pydata.org/pandas-docs/stable/indexing.html#indexing-view-versus-copy\n",
      "  from ipykernel import kernelapp as app\n",
      "/usr/local/lib/python2.7/site-packages/ipykernel/__main__.py:3: SettingWithCopyWarning: \n",
      "A value is trying to be set on a copy of a slice from a DataFrame.\n",
      "Try using .loc[row_indexer,col_indexer] = value instead\n",
      "\n",
      "See the the caveats in the documentation: http://pandas.pydata.org/pandas-docs/stable/indexing.html#indexing-view-versus-copy\n",
      "  app.launch_new_instance()\n"
     ]
    }
   ],
   "source": [
    "\n",
    "df_indep['to_etu'] = df_indep[[\"transition_indep_etu_{}\".format(trim) for trim in range(2,5)]].sum(1)>0\n",
    "df_indep['from_etu'] = df_indep[[\"transition_etu_indep_{}\".format(trim) for trim in range(2,5)]].sum(1)>0\n",
    "\n",
    "print df_indep.to_etu.sum()\n",
    "print df_indep.from_etu.sum()\n",
    "print (df_indep.to_etu * df_indep.EXTRI).sum() /10**6\n",
    "print (df_indep.from_etu * df_indep.EXTRI).sum() /10**6"
   ]
  },
  {
   "cell_type": "code",
   "execution_count": 159,
   "metadata": {
    "collapsed": false
   },
   "outputs": [
    {
     "name": "stdout",
     "output_type": "stream",
     "text": [
      "58\n",
      "59\n",
      "0.094067660327\n",
      "0.102896354036\n"
     ]
    },
    {
     "name": "stderr",
     "output_type": "stream",
     "text": [
      "/usr/local/lib/python2.7/site-packages/ipykernel/__main__.py:2: SettingWithCopyWarning: \n",
      "A value is trying to be set on a copy of a slice from a DataFrame.\n",
      "Try using .loc[row_indexer,col_indexer] = value instead\n",
      "\n",
      "See the the caveats in the documentation: http://pandas.pydata.org/pandas-docs/stable/indexing.html#indexing-view-versus-copy\n",
      "  from ipykernel import kernelapp as app\n",
      "/usr/local/lib/python2.7/site-packages/ipykernel/__main__.py:3: SettingWithCopyWarning: \n",
      "A value is trying to be set on a copy of a slice from a DataFrame.\n",
      "Try using .loc[row_indexer,col_indexer] = value instead\n",
      "\n",
      "See the the caveats in the documentation: http://pandas.pydata.org/pandas-docs/stable/indexing.html#indexing-view-versus-copy\n",
      "  app.launch_new_instance()\n"
     ]
    }
   ],
   "source": [
    "\n",
    "df_indep['to_sal'] = df_indep[[\"transition_indep_sal_{}\".format(trim) for trim in range(2,5)]].sum(1)>0\n",
    "df_indep['from_sal'] = df_indep[[\"transition_sal_indep_{}\".format(trim) for trim in range(2,5)]].sum(1)>0\n",
    "\n",
    "print df_indep.to_sal.sum()\n",
    "print df_indep.from_sal.sum()\n",
    "print (df_indep.to_sal * df_indep.EXTRI).sum() /10**6\n",
    "print (df_indep.from_sal * df_indep.EXTRI).sum() /10**6\n"
   ]
  },
  {
   "cell_type": "markdown",
   "metadata": {},
   "source": [
    "# Conclusion"
   ]
  },
  {
   "cell_type": "markdown",
   "metadata": {},
   "source": [
    "Sur les 2.14 millions d'indépendants en 2012, 338 000 ont changé de statut pour ne plus être ou devenir indépendant. Soit 15,8% es indépendants.\n",
    "\n",
    "Il y en a dans ceux là 94 000 quittent leur statut d'indépendant pour celui de salarié et 102 000 quittent leur emploi salarié pour devenir indépendant.\n",
    "51000 qui tombent au chomage et 90 000 en sortent en devenant indépendant.\n",
    "22 000 passent en inactivité et 18 000 en viennent.\n",
    "39 000 passent à la retraite et 9 000 en sortent.\n"
   ]
  },
  {
   "cell_type": "code",
   "execution_count": null,
   "metadata": {
    "collapsed": true
   },
   "outputs": [],
   "source": []
  }
 ],
 "metadata": {
  "kernelspec": {
   "display_name": "Python 2",
   "language": "python",
   "name": "python2"
  },
  "language_info": {
   "codemirror_mode": {
    "name": "ipython",
    "version": 2
   },
   "file_extension": ".py",
   "mimetype": "text/x-python",
   "name": "python",
   "nbconvert_exporter": "python",
   "pygments_lexer": "ipython2",
   "version": "2.7.10"
  }
 },
 "nbformat": 4,
 "nbformat_minor": 0
}
